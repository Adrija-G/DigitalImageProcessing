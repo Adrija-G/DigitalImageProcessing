{
 "cells": [
  {
   "cell_type": "code",
   "execution_count": 2,
   "metadata": {},
   "outputs": [],
   "source": [
    "import sys"
   ]
  },
  {
   "cell_type": "code",
   "execution_count": 5,
   "metadata": {},
   "outputs": [],
   "source": [
    "import cv2 \n",
    "import numpy as np\n",
    "import math\n",
    "import matplotlib.pyplot as plt\n",
    "%matplotlib inline "
   ]
  },
  {
   "cell_type": "code",
   "execution_count": 6,
   "metadata": {},
   "outputs": [],
   "source": [
    "# function to plot n images using subplots\n",
    "def plot_image(images, captions=None, cmap=None ):\n",
    "    f, axes = plt.subplots(1, len(images), sharey=True)\n",
    "    f.set_figwidth(15)\n",
    "    for ax,image,caption in zip(axes, images, captions):\n",
    "        ax.imshow(image, cmap)\n",
    "        ax.set_title(caption)"
   ]
  },
  {
   "cell_type": "code",
   "execution_count": null,
   "metadata": {},
   "outputs": [],
   "source": [
    "# Canny edge detection\n",
    "import cv2\n",
    "from IPython.display import display, Image\n",
    "\n",
    "img = cv2.imread('sample.jpg', 0)\n",
    "edges = cv2.Canny(img, 100, 200)  # Applying Canny edge detection\n",
    "\n",
    "# Resizes the images to 1/4 size\n",
    "smaller_img = cv2.resize(img, (0, 0), fx=0.25, fy=0.25)\n",
    "smaller_edges = cv2.resize(edges, (0, 0), fx=0.25, fy=0.25)\n",
    "\n",
    "# Display the original image with caption\n",
    "display(Image(data=cv2.imencode('.jpg', smaller_img)[1].tobytes(), format='jpg'))\n",
    "display(\"Sample Image\")\n",
    "\n",
    "# Display the edges image with caption\n",
    "display(Image(data=cv2.imencode('.jpg', smaller_edges)[1].tobytes(), format='jpg'))\n",
    "display(\"Sample Image Edge\")"
   ]
  },
  {
   "cell_type": "code",
   "execution_count": null,
   "metadata": {},
   "outputs": [],
   "source": [
    "# Sobel Operator\n",
    "import cv2\n",
    "from IPython.display import display, Image\n",
    "\n",
    "# Read the image\n",
    "img = cv2.imread('sample.jpg', cv2.IMREAD_GRAYSCALE)\n",
    "\n",
    "# Apply the Sobel operator\n",
    "sobel_x = cv2.Sobel(img, cv2.CV_64F, 1, 0, ksize=3)\n",
    "sobel_y = cv2.Sobel(img, cv2.CV_64F, 0, 1, ksize=3)\n",
    "\n",
    "# Convert the results to unsigned 8-bit integers\n",
    "sobel_x = cv2.convertScaleAbs(sobel_x)\n",
    "sobel_y = cv2.convertScaleAbs(sobel_y)\n",
    "\n",
    "# Combine the x and y gradients to get the magnitude\n",
    "sobel_combined = cv2.addWeighted(sobel_x, 0.5, sobel_y, 0.5, 0)\n",
    "\n",
    "# Display the original image and Sobel result using IPython display\n",
    "display(Image(data=cv2.imencode('.jpg', img)[1].tobytes(), format='jpg'))\n",
    "display(\"Original Image\")\n",
    "\n",
    "display(Image(data=cv2.imencode('.jpg', sobel_combined)[1].tobytes(), format='jpg'))\n",
    "display(\"Sobel Result\")"
   ]
  },
  {
   "cell_type": "code",
   "execution_count": null,
   "metadata": {},
   "outputs": [],
   "source": [
    "# Scharr operator\n",
    "import cv2\n",
    "from IPython.display import display, Image\n",
    "\n",
    "# Read the image\n",
    "img = cv2.imread('sample.jpg', cv2.IMREAD_GRAYSCALE)\n",
    "\n",
    "# Apply the Scharr operator\n",
    "scharr_x = cv2.Scharr(img, cv2.CV_64F, 1, 0)\n",
    "scharr_y = cv2.Scharr(img, cv2.CV_64F, 0, 1)\n",
    "\n",
    "# Convert the results to unsigned 8-bit integers\n",
    "scharr_x = cv2.convertScaleAbs(scharr_x)\n",
    "scharr_y = cv2.convertScaleAbs(scharr_y)\n",
    "\n",
    "# Combine the x and y gradients to get the magnitude\n",
    "scharr_combined = cv2.addWeighted(scharr_x, 0.5, scharr_y, 0.5, 0)\n",
    "\n",
    "# Display the original image and Scharr result using IPython display\n",
    "display(Image(data=cv2.imencode('.jpg', img)[1].tobytes(), format='jpg'))\n",
    "display(\"Original Image\")\n",
    "\n",
    "display(Image(data=cv2.imencode('.jpg', scharr_combined)[1].tobytes(), format='jpg'))\n",
    "display(\"Scharr Result\")\n"
   ]
  },
  {
   "cell_type": "code",
   "execution_count": null,
   "metadata": {},
   "outputs": [],
   "source": [
    "# Prewitt Operator\n",
    "import cv2\n",
    "import numpy as np\n",
    "from IPython.display import display, Image\n",
    "\n",
    "# Read the image\n",
    "img = cv2.imread('sample.jpg', cv2.IMREAD_GRAYSCALE)\n",
    "\n",
    "# Create a basic Prewitt kernel for x-direction\n",
    "kernel_x = np.array([[-1, 0, 1], [-1, 0, 1], [-1, 0, 1]], dtype=np.float32)\n",
    "prewitt_x = cv2.filter2D(img, -1, kernel_x)\n",
    "\n",
    "# Create a basic Prewitt kernel for y-direction\n",
    "kernel_y = np.array([[-1, -1, -1], [0, 0, 0], [1, 1, 1]], dtype=np.float32)\n",
    "prewitt_y = cv2.filter2D(img, -1, kernel_y)\n",
    "\n",
    "# Combine the x and y gradients to get the magnitude\n",
    "prewitt_combined = cv2.addWeighted(prewitt_x, 0.5, prewitt_y, 0.5, 0)\n",
    "\n",
    "# Display the original image and Prewitt result using IPython display\n",
    "display(Image(data=cv2.imencode('.jpg', img)[1].tobytes(), format='jpg'))\n",
    "display(\"Original Image\")\n",
    "\n",
    "display(Image(data=cv2.imencode('.jpg', prewitt_combined)[1].tobytes(), format='jpg'))\n",
    "display(\"Prewitt-Like Result\")"
   ]
  }
 ],
 "metadata": {
  "kernelspec": {
   "display_name": "Python 3",
   "language": "python",
   "name": "python3"
  },
  "language_info": {
   "codemirror_mode": {
    "name": "ipython",
    "version": 3
   },
   "file_extension": ".py",
   "mimetype": "text/x-python",
   "name": "python",
   "nbconvert_exporter": "python",
   "pygments_lexer": "ipython3",
   "version": "3.9.0"
  }
 },
 "nbformat": 4,
 "nbformat_minor": 2
}
