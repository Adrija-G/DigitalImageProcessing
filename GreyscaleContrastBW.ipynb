{
 "cells": [
  {
   "cell_type": "code",
   "execution_count": 1,
   "metadata": {},
   "outputs": [],
   "source": [
    "import sys\n",
    "import cv2 \n",
    "import numpy as np\n",
    "import math\n",
    "import matplotlib.pyplot as plt\n",
    "%matplotlib inline "
   ]
  },
  {
   "cell_type": "code",
   "execution_count": null,
   "metadata": {},
   "outputs": [],
   "source": [
    "img_path = 'sample.jpg'\n",
    "original_img = Image.open(img_path)\n",
    "\n",
    "plt.imshow(original_img)\n",
    "plt.axis('off')\n",
    "plt.title('Original Image')\n",
    "plt.show()"
   ]
  },
  {
   "cell_type": "code",
   "execution_count": null,
   "metadata": {},
   "outputs": [],
   "source": [
    "import cv2\n",
    "from IPython.display import display, Image\n",
    "\n",
    "iimg = cv2.imread('sample.jpg', 0)\n",
    "img = cv2.resize(img, (0, 0), fx=0.25, fy=0.25)\n",
    "\n",
    "# Display the edges image with caption\n",
    "display(Image(data=cv2.imencode('.jpg', img)[1].tobytes(), format='jpg'))\n",
    "display(\"Greyscale Image\")"
   ]
  },
  {
   "cell_type": "code",
   "execution_count": null,
   "metadata": {},
   "outputs": [],
   "source": [
    "import cv2\n",
    "from IPython.display import display, Image\n",
    "\n",
    "iimg = cv2.imread('sample.jpg', 0)\n",
    "img = cv2.resize(iimg, (0, 0), fx=0.25, fy=0.25)\n",
    "\n",
    "#Whiter img\n",
    "_, w_img = cv2.threshold(img, 25, 255, cv2.THRESH_BINARY)\n",
    "#Blacker img\n",
    "_, b_img = cv2.threshold(img, 100, 25, cv2.THRESH_BINARY)\n",
    "\n",
    "# Display the grey image\n",
    "display(Image(data=cv2.imencode('.jpg', w_img)[1].tobytes(), format='jpg'))\n",
    "display(\"Whiter Enhanced Image\")\n",
    "display(Image(data=cv2.imencode('.jpg', b_img)[1].tobytes(), format='jpg'))\n",
    "display(\"Blacker Enhanced Image\")"
   ]
  }
 ],
 "metadata": {
  "kernelspec": {
   "display_name": "Python 3",
   "language": "python",
   "name": "python3"
  },
  "language_info": {
   "codemirror_mode": {
    "name": "ipython",
    "version": 3
   },
   "file_extension": ".py",
   "mimetype": "text/x-python",
   "name": "python",
   "nbconvert_exporter": "python",
   "pygments_lexer": "ipython3",
   "version": "3.9.0"
  }
 },
 "nbformat": 4,
 "nbformat_minor": 2
}
